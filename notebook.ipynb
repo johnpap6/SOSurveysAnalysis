{
 "cells": [
  {
   "cell_type": "markdown",
   "metadata": {},
   "source": [
    "# StackOverflow survey analysis\n",
    "\n",
    "### Business understanding\n",
    "Following three questions are posed:\n",
    "    1. Does the number of years coded professionally have an effect on how often people visit StackOverflow?\n",
    "    2. Are people who work remotely more satisfied by their job?\n",
    "    3. How does the popularity of different programming languages look like over the last three years?"
   ]
  },
  {
   "cell_type": "markdown",
   "metadata": {},
   "source": [
    "### Data Understanding"
   ]
  },
  {
   "cell_type": "code",
   "execution_count": 1,
   "metadata": {},
   "outputs": [
    {
     "name": "stderr",
     "output_type": "stream",
     "text": [
      "C:\\Users\\Kremmydosporos\\Anaconda3\\lib\\site-packages\\IPython\\core\\interactiveshell.py:3020: DtypeWarning: Columns (8,12,13,14,15,16,50,51,52,53,55,56,57,58,59,60,61,62,63,64,65,66,67,68,69,70,71,72,73,74,75,76,77,78,79,80,81,82,83,84,85,93,94,95,96,97,98,99,100,101,102,103,104,105,106,107,108,109,110,111,112,113,114,115,116,117,118,119,120,121,122,123,124,125,126,127,128) have mixed types. Specify dtype option on import or set low_memory=False.\n",
      "  interactivity=interactivity, compiler=compiler, result=result)\n"
     ]
    },
    {
     "data": {
      "text/html": [
       "<div>\n",
       "<style scoped>\n",
       "    .dataframe tbody tr th:only-of-type {\n",
       "        vertical-align: middle;\n",
       "    }\n",
       "\n",
       "    .dataframe tbody tr th {\n",
       "        vertical-align: top;\n",
       "    }\n",
       "\n",
       "    .dataframe thead th {\n",
       "        text-align: right;\n",
       "    }\n",
       "</style>\n",
       "<table border=\"1\" class=\"dataframe\">\n",
       "  <thead>\n",
       "    <tr style=\"text-align: right;\">\n",
       "      <th></th>\n",
       "      <th>Respondent</th>\n",
       "      <th>Professional</th>\n",
       "      <th>ProgramHobby</th>\n",
       "      <th>Country</th>\n",
       "      <th>University</th>\n",
       "      <th>EmploymentStatus</th>\n",
       "      <th>FormalEducation</th>\n",
       "      <th>MajorUndergrad</th>\n",
       "      <th>HomeRemote</th>\n",
       "      <th>CompanySize</th>\n",
       "      <th>...</th>\n",
       "      <th>StackOverflowMakeMoney</th>\n",
       "      <th>Gender</th>\n",
       "      <th>HighestEducationParents</th>\n",
       "      <th>Race</th>\n",
       "      <th>SurveyLong</th>\n",
       "      <th>QuestionsInteresting</th>\n",
       "      <th>QuestionsConfusing</th>\n",
       "      <th>InterestedAnswers</th>\n",
       "      <th>Salary</th>\n",
       "      <th>ExpectedSalary</th>\n",
       "    </tr>\n",
       "  </thead>\n",
       "  <tbody>\n",
       "    <tr>\n",
       "      <td>0</td>\n",
       "      <td>1</td>\n",
       "      <td>Student</td>\n",
       "      <td>Yes, both</td>\n",
       "      <td>United States</td>\n",
       "      <td>No</td>\n",
       "      <td>Not employed, and not looking for work</td>\n",
       "      <td>Secondary school</td>\n",
       "      <td>NaN</td>\n",
       "      <td>NaN</td>\n",
       "      <td>NaN</td>\n",
       "      <td>...</td>\n",
       "      <td>Strongly disagree</td>\n",
       "      <td>Male</td>\n",
       "      <td>High school</td>\n",
       "      <td>White or of European descent</td>\n",
       "      <td>Strongly disagree</td>\n",
       "      <td>Strongly agree</td>\n",
       "      <td>Disagree</td>\n",
       "      <td>Strongly agree</td>\n",
       "      <td>NaN</td>\n",
       "      <td>NaN</td>\n",
       "    </tr>\n",
       "    <tr>\n",
       "      <td>1</td>\n",
       "      <td>2</td>\n",
       "      <td>Student</td>\n",
       "      <td>Yes, both</td>\n",
       "      <td>United Kingdom</td>\n",
       "      <td>Yes, full-time</td>\n",
       "      <td>Employed part-time</td>\n",
       "      <td>Some college/university study without earning ...</td>\n",
       "      <td>Computer science or software engineering</td>\n",
       "      <td>More than half, but not all, the time</td>\n",
       "      <td>20 to 99 employees</td>\n",
       "      <td>...</td>\n",
       "      <td>Strongly disagree</td>\n",
       "      <td>Male</td>\n",
       "      <td>A master's degree</td>\n",
       "      <td>White or of European descent</td>\n",
       "      <td>Somewhat agree</td>\n",
       "      <td>Somewhat agree</td>\n",
       "      <td>Disagree</td>\n",
       "      <td>Strongly agree</td>\n",
       "      <td>NaN</td>\n",
       "      <td>37500.0</td>\n",
       "    </tr>\n",
       "    <tr>\n",
       "      <td>2</td>\n",
       "      <td>3</td>\n",
       "      <td>Professional developer</td>\n",
       "      <td>Yes, both</td>\n",
       "      <td>United Kingdom</td>\n",
       "      <td>No</td>\n",
       "      <td>Employed full-time</td>\n",
       "      <td>Bachelor's degree</td>\n",
       "      <td>Computer science or software engineering</td>\n",
       "      <td>Less than half the time, but at least one day ...</td>\n",
       "      <td>10,000 or more employees</td>\n",
       "      <td>...</td>\n",
       "      <td>Disagree</td>\n",
       "      <td>Male</td>\n",
       "      <td>A professional degree</td>\n",
       "      <td>White or of European descent</td>\n",
       "      <td>Somewhat agree</td>\n",
       "      <td>Agree</td>\n",
       "      <td>Disagree</td>\n",
       "      <td>Agree</td>\n",
       "      <td>113750.0</td>\n",
       "      <td>NaN</td>\n",
       "    </tr>\n",
       "    <tr>\n",
       "      <td>3</td>\n",
       "      <td>4</td>\n",
       "      <td>Professional non-developer who sometimes write...</td>\n",
       "      <td>Yes, both</td>\n",
       "      <td>United States</td>\n",
       "      <td>No</td>\n",
       "      <td>Employed full-time</td>\n",
       "      <td>Doctoral degree</td>\n",
       "      <td>A non-computer-focused engineering discipline</td>\n",
       "      <td>Less than half the time, but at least one day ...</td>\n",
       "      <td>10,000 or more employees</td>\n",
       "      <td>...</td>\n",
       "      <td>Disagree</td>\n",
       "      <td>Male</td>\n",
       "      <td>A doctoral degree</td>\n",
       "      <td>White or of European descent</td>\n",
       "      <td>Agree</td>\n",
       "      <td>Agree</td>\n",
       "      <td>Somewhat agree</td>\n",
       "      <td>Strongly agree</td>\n",
       "      <td>NaN</td>\n",
       "      <td>NaN</td>\n",
       "    </tr>\n",
       "    <tr>\n",
       "      <td>4</td>\n",
       "      <td>5</td>\n",
       "      <td>Professional developer</td>\n",
       "      <td>Yes, I program as a hobby</td>\n",
       "      <td>Switzerland</td>\n",
       "      <td>No</td>\n",
       "      <td>Employed full-time</td>\n",
       "      <td>Master's degree</td>\n",
       "      <td>Computer science or software engineering</td>\n",
       "      <td>Never</td>\n",
       "      <td>10 to 19 employees</td>\n",
       "      <td>...</td>\n",
       "      <td>NaN</td>\n",
       "      <td>NaN</td>\n",
       "      <td>NaN</td>\n",
       "      <td>NaN</td>\n",
       "      <td>NaN</td>\n",
       "      <td>NaN</td>\n",
       "      <td>NaN</td>\n",
       "      <td>NaN</td>\n",
       "      <td>NaN</td>\n",
       "      <td>NaN</td>\n",
       "    </tr>\n",
       "  </tbody>\n",
       "</table>\n",
       "<p>5 rows × 154 columns</p>\n",
       "</div>"
      ],
      "text/plain": [
       "   Respondent                                       Professional  \\\n",
       "0           1                                            Student   \n",
       "1           2                                            Student   \n",
       "2           3                             Professional developer   \n",
       "3           4  Professional non-developer who sometimes write...   \n",
       "4           5                             Professional developer   \n",
       "\n",
       "                ProgramHobby         Country      University  \\\n",
       "0                  Yes, both   United States              No   \n",
       "1                  Yes, both  United Kingdom  Yes, full-time   \n",
       "2                  Yes, both  United Kingdom              No   \n",
       "3                  Yes, both   United States              No   \n",
       "4  Yes, I program as a hobby     Switzerland              No   \n",
       "\n",
       "                         EmploymentStatus  \\\n",
       "0  Not employed, and not looking for work   \n",
       "1                      Employed part-time   \n",
       "2                      Employed full-time   \n",
       "3                      Employed full-time   \n",
       "4                      Employed full-time   \n",
       "\n",
       "                                     FormalEducation  \\\n",
       "0                                   Secondary school   \n",
       "1  Some college/university study without earning ...   \n",
       "2                                  Bachelor's degree   \n",
       "3                                    Doctoral degree   \n",
       "4                                    Master's degree   \n",
       "\n",
       "                                  MajorUndergrad  \\\n",
       "0                                            NaN   \n",
       "1       Computer science or software engineering   \n",
       "2       Computer science or software engineering   \n",
       "3  A non-computer-focused engineering discipline   \n",
       "4       Computer science or software engineering   \n",
       "\n",
       "                                          HomeRemote  \\\n",
       "0                                                NaN   \n",
       "1              More than half, but not all, the time   \n",
       "2  Less than half the time, but at least one day ...   \n",
       "3  Less than half the time, but at least one day ...   \n",
       "4                                              Never   \n",
       "\n",
       "                CompanySize  ... StackOverflowMakeMoney Gender  \\\n",
       "0                       NaN  ...      Strongly disagree   Male   \n",
       "1        20 to 99 employees  ...      Strongly disagree   Male   \n",
       "2  10,000 or more employees  ...               Disagree   Male   \n",
       "3  10,000 or more employees  ...               Disagree   Male   \n",
       "4        10 to 19 employees  ...                    NaN    NaN   \n",
       "\n",
       "  HighestEducationParents                          Race         SurveyLong  \\\n",
       "0             High school  White or of European descent  Strongly disagree   \n",
       "1       A master's degree  White or of European descent     Somewhat agree   \n",
       "2   A professional degree  White or of European descent     Somewhat agree   \n",
       "3       A doctoral degree  White or of European descent              Agree   \n",
       "4                     NaN                           NaN                NaN   \n",
       "\n",
       "  QuestionsInteresting QuestionsConfusing InterestedAnswers    Salary  \\\n",
       "0       Strongly agree           Disagree    Strongly agree       NaN   \n",
       "1       Somewhat agree           Disagree    Strongly agree       NaN   \n",
       "2                Agree           Disagree             Agree  113750.0   \n",
       "3                Agree     Somewhat agree    Strongly agree       NaN   \n",
       "4                  NaN                NaN               NaN       NaN   \n",
       "\n",
       "   ExpectedSalary  \n",
       "0             NaN  \n",
       "1         37500.0  \n",
       "2             NaN  \n",
       "3             NaN  \n",
       "4             NaN  \n",
       "\n",
       "[5 rows x 154 columns]"
      ]
     },
     "execution_count": 1,
     "metadata": {},
     "output_type": "execute_result"
    }
   ],
   "source": [
    "import pandas as pd\n",
    "import numpy as np\n",
    "import matplotlib.pyplot as plt\n",
    "\n",
    "%matplotlib inline\n",
    "\n",
    "# Import data of last 3 years\n",
    "df17 = pd.read_csv('./developer_survey_2017/survey_results_public.csv')\n",
    "df18 = pd.read_csv('./developer_survey_2018/survey_results_public.csv')\n",
    "df19 = pd.read_csv('./developer_survey_2019/survey_results_public.csv')\n",
    "\n",
    "# Inspect 2017\n",
    "df17.head()"
   ]
  },
  {
   "cell_type": "code",
   "execution_count": 2,
   "metadata": {},
   "outputs": [
    {
     "data": {
      "text/plain": [
       "(88883, 85)"
      ]
     },
     "execution_count": 2,
     "metadata": {},
     "output_type": "execute_result"
    }
   ],
   "source": [
    "# Inspect 2019 shape\n",
    "df19.shape"
   ]
  },
  {
   "cell_type": "code",
   "execution_count": 3,
   "metadata": {},
   "outputs": [
    {
     "data": {
      "text/plain": [
       "Index(['respondent', 'country', 'formaleducation', 'companysize',\n",
       "       'careersatisfaction', 'jobsatisfaction', 'lastnewjob', 'currency',\n",
       "       'educationtypes', 'selftaughttypes', 'timeafterbootcamp', 'ide',\n",
       "       'methodology', 'versioncontrol', 'checkincode', 'gender', 'salary'],\n",
       "      dtype='object')"
      ]
     },
     "execution_count": 3,
     "metadata": {},
     "output_type": "execute_result"
    }
   ],
   "source": [
    "# Common columns in 2017, 2018\n",
    "df17.columns.str.lower().intersection(df18.columns.str.lower())"
   ]
  },
  {
   "cell_type": "code",
   "execution_count": 4,
   "metadata": {},
   "outputs": [
    {
     "data": {
      "text/plain": [
       "Index(['respondent', 'opensource', 'country', 'student', 'employment',\n",
       "       'undergradmajor', 'devtype', 'currencysymbol', 'languageworkedwith',\n",
       "       'languagedesirenextyear', 'databaseworkedwith',\n",
       "       'databasedesirenextyear', 'platformworkedwith',\n",
       "       'platformdesirenextyear', 'gender', 'age', 'dependents'],\n",
       "      dtype='object')"
      ]
     },
     "execution_count": 4,
     "metadata": {},
     "output_type": "execute_result"
    }
   ],
   "source": [
    "# Common columns in 2018, 2019\n",
    "df18.columns.str.lower().intersection(df19.columns.str.lower())"
   ]
  },
  {
   "cell_type": "markdown",
   "metadata": {},
   "source": [
    "## Question 1: Professional Coding exp effect on SO visiting frequency"
   ]
  },
  {
   "cell_type": "markdown",
   "metadata": {},
   "source": [
    "### Prepare and model data"
   ]
  },
  {
   "cell_type": "code",
   "execution_count": 5,
   "metadata": {},
   "outputs": [
    {
     "data": {
      "text/plain": [
       "Daily or almost daily                                 26827\n",
       "Multiple times per day                                26767\n",
       "A few times per week                                  19990\n",
       "A few times per month or weekly                       11162\n",
       "Less than once per month or monthly                    2957\n",
       "I have never visited Stack Overflow (before today)      560\n",
       "Name: SOVisitFreq, dtype: int64"
      ]
     },
     "execution_count": 5,
     "metadata": {},
     "output_type": "execute_result"
    }
   ],
   "source": [
    "# Inspect value couts of SOVisitFreq\n",
    "df19[\"SOVisitFreq\"].value_counts()"
   ]
  },
  {
   "cell_type": "code",
   "execution_count": 6,
   "metadata": {},
   "outputs": [],
   "source": [
    "def so_visit_freq_to_numeric(freq):\n",
    "    '''\n",
    "    INPUT\n",
    "    freq - string, values of the SOVisitFreq feature\n",
    "    \n",
    "    OUTPUT\n",
    "    int - An integer according to the frequency, higher integer means higher frequency\n",
    "    \n",
    "    This function translates the distinct string values of SOVisitFreq feature into a numeric value in\n",
    "    such a way that higher frequency have higher values and vice versa\n",
    "    '''\n",
    "    if freq == \"Multiple times per day\":\n",
    "        return 5\n",
    "    elif freq == \"Daily or almost daily\":\n",
    "        return 4\n",
    "    elif freq == \"A few times per week\":\n",
    "        return 3\n",
    "    elif freq == \"A few times per month or weekly\":\n",
    "        return 2\n",
    "    elif freq == \"Less than once per month or monthly\":\n",
    "        return 1\n",
    "    else:\n",
    "        return 0"
   ]
  },
  {
   "cell_type": "code",
   "execution_count": 7,
   "metadata": {},
   "outputs": [],
   "source": [
    "# transform SOVisitFreq to float\n",
    "df19['SoVisitFreqNum'] = df19[\"SOVisitFreq\"].apply(so_visit_freq_to_numeric)"
   ]
  },
  {
   "cell_type": "code",
   "execution_count": 8,
   "metadata": {},
   "outputs": [],
   "source": [
    "# replace string values more than 50 years with 51 and less than 1 year with 0\n",
    "df19['YearsCodePro'] = df19['YearsCodePro'].replace('More than 50 years', '51')\n",
    "df19['YearsCodePro'] = df19['YearsCodePro'].replace('Less than 1 year', '0')"
   ]
  },
  {
   "cell_type": "code",
   "execution_count": 9,
   "metadata": {},
   "outputs": [],
   "source": [
    "# convert feature to float\n",
    "df19['YearsCodePro'] = (df19['YearsCodePro']).astype(float)"
   ]
  },
  {
   "cell_type": "markdown",
   "metadata": {},
   "source": [
    "### Results"
   ]
  },
  {
   "cell_type": "code",
   "execution_count": 10,
   "metadata": {},
   "outputs": [],
   "source": [
    "# create statistic\n",
    "a = df19.groupby(['YearsCodePro']).mean()['SoVisitFreqNum'].sort_index()"
   ]
  },
  {
   "cell_type": "code",
   "execution_count": 11,
   "metadata": {},
   "outputs": [
    {
     "data": {
      "text/plain": [
       "Text(0.5, 1.0, 'StackOverflow Visit Frequency')"
      ]
     },
     "execution_count": 11,
     "metadata": {},
     "output_type": "execute_result"
    },
    {
     "data": {
      "image/png": "[encoded data removed]",
      "text/plain": [
       "<Figure size 432x288 with 1 Axes>"
      ]
     },
     "metadata": {
      "needs_background": "light"
     },
     "output_type": "display_data"
    }
   ],
   "source": [
    "# plot\n",
    "plt.plot(a)\n",
    "plt.xlabel(\"Years coding professionally\")\n",
    "plt.ylabel('Frequency of visiting StackOverflow')\n",
    "plt.title(\"StackOverflow Visit Frequency\")"
   ]
  },
  {
   "cell_type": "markdown",
   "metadata": {},
   "source": [
    "## Question 2: Are people who work remotely more satisfied by their job?"
   ]
  },
  {
   "cell_type": "markdown",
   "metadata": {},
   "source": [
    "### Prepare and model data"
   ]
  },
  {
   "cell_type": "code",
   "execution_count": 12,
   "metadata": {},
   "outputs": [],
   "source": [
    "def job_sat_to_numeric(sat):\n",
    "    '''\n",
    "    INPUT\n",
    "    sat - string, values of the JobSat feature\n",
    "    \n",
    "    OUTPUT\n",
    "    int - An integer according to the satisfaction, higher integer means higher satisfaction\n",
    "    \n",
    "    This function translates the distinct string values of JobSat feature into a numeric value in\n",
    "    such a way that higher satisfactions have higher values and vice versa\n",
    "    '''\n",
    "    if sat == \"Very satisfied\":\n",
    "        return 5\n",
    "    elif sat == \"Slightly satisfied\":\n",
    "        return 4\n",
    "    elif sat == \"Neither satisfied nor dissatisfied\":\n",
    "        return 3\n",
    "    elif sat == \"Slightly dissatisfied\":\n",
    "        return 2\n",
    "    elif sat == \"Very dissatisfied\":\n",
    "        return 1\n",
    "    else:\n",
    "        return 0"
   ]
  },
  {
   "cell_type": "code",
   "execution_count": 13,
   "metadata": {},
   "outputs": [],
   "source": [
    "# Transform JobSat to numeric\n",
    "df19[\"JobSat\"] = df19[\"JobSat\"].apply(job_sat_to_numeric)"
   ]
  },
  {
   "cell_type": "code",
   "execution_count": 14,
   "metadata": {},
   "outputs": [],
   "source": [
    "# Calculate jobsatisfaction mean values by workremote\n",
    "c = df19.groupby(['WorkRemote']).mean()[\"JobSat\"].sort_values()"
   ]
  },
  {
   "cell_type": "markdown",
   "metadata": {},
   "source": [
    "### Results"
   ]
  },
  {
   "cell_type": "code",
   "execution_count": 15,
   "metadata": {},
   "outputs": [
    {
     "data": {
      "text/plain": [
       "([0, 1, 2, 3, 4, 5, 6], <a list of 7 Text xticklabel objects>)"
      ]
     },
     "execution_count": 15,
     "metadata": {},
     "output_type": "execute_result"
    },
    {
     "data": {
      "image/png": "[encoded data removed]",
      "text/plain": [
       "<Figure size 432x288 with 1 Axes>"
      ]
     },
     "metadata": {
      "needs_background": "light"
     },
     "output_type": "display_data"
    }
   ],
   "source": [
    "# plot\n",
    "plt.plot(c)\n",
    "plt.xlabel(\"Working from remote frequency\")\n",
    "plt.ylabel('Job satisfcation')\n",
    "plt.title(\"Job satisfaction vs. working remote\")\n",
    "plt.xticks(\n",
    "    rotation=30, \n",
    "    horizontalalignment='right'\n",
    ")"
   ]
  },
  {
   "cell_type": "markdown",
   "metadata": {},
   "source": [
    "## Question 3: How does the popularity of different programming languages look like over the last three years?"
   ]
  },
  {
   "cell_type": "markdown",
   "metadata": {},
   "source": [
    "### Data undestanding"
   ]
  },
  {
   "cell_type": "code",
   "execution_count": 16,
   "metadata": {},
   "outputs": [
    {
     "data": {
      "text/plain": [
       "0                          JavaScript;Python;HTML;CSS\n",
       "1                        JavaScript;Python;Bash/Shell\n",
       "2                                                 NaN\n",
       "3    C#;JavaScript;SQL;TypeScript;HTML;CSS;Bash/Shell\n",
       "4                  C;C++;Java;Matlab;R;SQL;Bash/Shell\n",
       "Name: LanguageWorkedWith, dtype: object"
      ]
     },
     "execution_count": 16,
     "metadata": {},
     "output_type": "execute_result"
    }
   ],
   "source": [
    "# Inspect feature\n",
    "df18['LanguageWorkedWith'].head()"
   ]
  },
  {
   "cell_type": "code",
   "execution_count": 17,
   "metadata": {},
   "outputs": [
    {
     "data": {
      "text/plain": [
       "0                HTML/CSS;Java;JavaScript;Python\n",
       "1                            C++;HTML/CSS;Python\n",
       "2                                       HTML/CSS\n",
       "3                            C;C++;C#;Python;SQL\n",
       "4    C++;HTML/CSS;Java;JavaScript;Python;SQL;VBA\n",
       "Name: LanguageWorkedWith, dtype: object"
      ]
     },
     "execution_count": 17,
     "metadata": {},
     "output_type": "execute_result"
    }
   ],
   "source": [
    "# Inspect feature\n",
    "# html is combined with css, contrary to the 2018 data\n",
    "df19['LanguageWorkedWith'].head()"
   ]
  },
  {
   "cell_type": "markdown",
   "metadata": {},
   "source": [
    "### Prepare and model data"
   ]
  },
  {
   "cell_type": "code",
   "execution_count": 18,
   "metadata": {},
   "outputs": [],
   "source": [
    "def replace_html_css(s):\n",
    "    '''\n",
    "    INPUT\n",
    "    s - String value of language worked with feature\n",
    "    \n",
    "    OUTPUT\n",
    "    s - String with replaced HTML/CSS or nan\n",
    "    \n",
    "    This function parses the string provided and replaces all occurences of HTML/CSS\n",
    "    with HTML;CSS. If the provided string is np.nan then np.nan is returned.\n",
    "    '''\n",
    "    try:\n",
    "        return s.replace('HTML/CSS', 'HTML;CSS')\n",
    "    except AttributeError:\n",
    "        return np.NaN"
   ]
  },
  {
   "cell_type": "code",
   "execution_count": 19,
   "metadata": {},
   "outputs": [],
   "source": [
    "# split html/css\n",
    "df19['LanguageWorkedWith'] = df19['LanguageWorkedWith'].apply(replace_html_css)"
   ]
  },
  {
   "cell_type": "code",
   "execution_count": 20,
   "metadata": {},
   "outputs": [
    {
     "data": {
      "text/plain": [
       "0                            Swift\n",
       "1    JavaScript; Python; Ruby; SQL\n",
       "2                Java; PHP; Python\n",
       "3           Matlab; Python; R; SQL\n",
       "4                              NaN\n",
       "Name: HaveWorkedLanguage, dtype: object"
      ]
     },
     "execution_count": 20,
     "metadata": {},
     "output_type": "execute_result"
    }
   ],
   "source": [
    "# inspect data\n",
    "df17['HaveWorkedLanguage'].head()"
   ]
  },
  {
   "cell_type": "code",
   "execution_count": 21,
   "metadata": {},
   "outputs": [
    {
     "name": "stdout",
     "output_type": "stream",
     "text": [
      "0.014783479405510615\n",
      "0.20758686965757928\n",
      "0.2873404420921544\n"
     ]
    }
   ],
   "source": [
    "# proportion of nans for feature LanguageWorkedWIth, HaveWorkedLanguage\n",
    "print(df19['LanguageWorkedWith'].isnull().sum() / df19['LanguageWorkedWith'].shape[0])\n",
    "print(df18['LanguageWorkedWith'].isnull().sum() / df18['LanguageWorkedWith'].shape[0])\n",
    "print(df17['HaveWorkedLanguage'].isnull().sum() / df17['HaveWorkedLanguage'].shape[0])"
   ]
  },
  {
   "cell_type": "code",
   "execution_count": 22,
   "metadata": {},
   "outputs": [],
   "source": [
    "# Parse string values to lists\n",
    "# Note 2017 has a different delimiter\n",
    "df19 = df19.assign(**{\"LanguageWorkedWithList\":df19[\"LanguageWorkedWith\"].str.split(';')})\n",
    "df18 = df18.assign(**{\"LanguageWorkedWithList\":df18[\"LanguageWorkedWith\"].str.split(';')})\n",
    "df17 = df17.assign(**{\"HaveWorkedLanguageList\":df17[\"HaveWorkedLanguage\"].str.split('; ')})"
   ]
  },
  {
   "cell_type": "code",
   "execution_count": 23,
   "metadata": {},
   "outputs": [
    {
     "data": {
      "text/plain": [
       "0                [HTML, CSS, Java, JavaScript, Python]\n",
       "1                             [C++, HTML, CSS, Python]\n",
       "2                                          [HTML, CSS]\n",
       "3                            [C, C++, C#, Python, SQL]\n",
       "4    [C++, HTML, CSS, Java, JavaScript, Python, SQL...\n",
       "Name: LanguageWorkedWithList, dtype: object"
      ]
     },
     "execution_count": 23,
     "metadata": {},
     "output_type": "execute_result"
    }
   ],
   "source": [
    "df19['LanguageWorkedWithList'].head()"
   ]
  },
  {
   "cell_type": "code",
   "execution_count": 24,
   "metadata": {},
   "outputs": [
    {
     "data": {
      "text/plain": [
       "0                      [JavaScript, Python, HTML, CSS]\n",
       "1                     [JavaScript, Python, Bash/Shell]\n",
       "2                                                  NaN\n",
       "3    [C#, JavaScript, SQL, TypeScript, HTML, CSS, B...\n",
       "4           [C, C++, Java, Matlab, R, SQL, Bash/Shell]\n",
       "Name: LanguageWorkedWithList, dtype: object"
      ]
     },
     "execution_count": 24,
     "metadata": {},
     "output_type": "execute_result"
    }
   ],
   "source": [
    "df18['LanguageWorkedWithList'].head()"
   ]
  },
  {
   "cell_type": "code",
   "execution_count": 25,
   "metadata": {},
   "outputs": [
    {
     "data": {
      "text/plain": [
       "0                            [Swift]\n",
       "1    [JavaScript, Python, Ruby, SQL]\n",
       "2                [Java, PHP, Python]\n",
       "3           [Matlab, Python, R, SQL]\n",
       "4                                NaN\n",
       "Name: HaveWorkedLanguageList, dtype: object"
      ]
     },
     "execution_count": 25,
     "metadata": {},
     "output_type": "execute_result"
    }
   ],
   "source": [
    "df17['HaveWorkedLanguageList'].head()"
   ]
  },
  {
   "cell_type": "code",
   "execution_count": 26,
   "metadata": {},
   "outputs": [
    {
     "data": {
      "text/plain": [
       "0"
      ]
     },
     "execution_count": 26,
     "metadata": {},
     "output_type": "execute_result"
    }
   ],
   "source": [
    "# no html in 2017 survey\n",
    "(df17['HaveWorkedLanguage'].str.find('HTML') > -1).sum()"
   ]
  },
  {
   "cell_type": "code",
   "execution_count": 27,
   "metadata": {},
   "outputs": [],
   "source": [
    "# Flatten lists in each row and create Series\n",
    "df19_langs = df19['LanguageWorkedWithList'].apply(pd.Series).stack().reset_index(drop=True)\n",
    "df18_langs = df18['LanguageWorkedWithList'].apply(pd.Series).stack().reset_index(drop=True)\n",
    "df17_langs = df17['HaveWorkedLanguageList'].apply(pd.Series).stack().reset_index(drop=True)"
   ]
  },
  {
   "cell_type": "code",
   "execution_count": 28,
   "metadata": {},
   "outputs": [],
   "source": [
    "# Calculate the popularity as percentage for each year and store it as a Series object\n",
    "# The popularity of a language is calcualated as the count of this language in all the answers divided by\n",
    "# the answers that are not nans.\n",
    "# Note: in 2017 the feature is called HaveWorkedLanguage\n",
    "p19 = df19_langs.value_counts() / df19['LanguageWorkedWith'].notnull().sum()\n",
    "p18 = df18_langs.value_counts() / df18['LanguageWorkedWith'].notnull().sum()\n",
    "p17 = df17_langs.value_counts() / df17['HaveWorkedLanguage'].notnull().sum()"
   ]
  },
  {
   "cell_type": "code",
   "execution_count": 29,
   "metadata": {},
   "outputs": [],
   "source": [
    "def plot_lang_popularity(lang):\n",
    "    '''\n",
    "    INPUT\n",
    "    lang - Language of interest as string\n",
    "    \n",
    "    OUTPUT\n",
    "    nothing\n",
    "    \n",
    "    This function creates a pandas Series using the popularity calculated in the series p17, p18, p19.\n",
    "    Visualized the popularity percentage of each year in a bar plot\n",
    "    '''\n",
    "    popseries = pd.Series([p17[lang], p18[lang], p19[lang]], index =['2017', '2018', '2019'])\n",
    "    \n",
    "    plt.bar(np.arange(popseries.shape[0]), popseries.values, align='center', alpha=0.5)\n",
    "    plt.xticks(np.arange(popseries.shape[0]), popseries.index)\n",
    "    plt.ylabel('Popularity')\n",
    "    plt.title(lang + ' popularity per year')\n",
    "    plt.show()"
   ]
  },
  {
   "cell_type": "markdown",
   "metadata": {},
   "source": [
    "### Results"
   ]
  },
  {
   "cell_type": "code",
   "execution_count": 30,
   "metadata": {},
   "outputs": [
    {
     "data": {
      "image/png": "[encoded data removed]",
      "text/plain": [
       "<Figure size 432x288 with 1 Axes>"
      ]
     },
     "metadata": {
      "needs_background": "light"
     },
     "output_type": "display_data"
    }
   ],
   "source": [
    "plot_lang_popularity('JavaScript')"
   ]
  },
  {
   "cell_type": "code",
   "execution_count": 31,
   "metadata": {},
   "outputs": [
    {
     "data": {
      "image/png": "[encoded data removed]",
      "text/plain": [
       "<Figure size 432x288 with 1 Axes>"
      ]
     },
     "metadata": {
      "needs_background": "light"
     },
     "output_type": "display_data"
    }
   ],
   "source": [
    "plot_lang_popularity('Python')"
   ]
  },
  {
   "cell_type": "code",
   "execution_count": 32,
   "metadata": {},
   "outputs": [
    {
     "data": {
      "image/png": "[encoded data removed]",
      "text/plain": [
       "<Figure size 432x288 with 1 Axes>"
      ]
     },
     "metadata": {
      "needs_background": "light"
     },
     "output_type": "display_data"
    }
   ],
   "source": [
    "plot_lang_popularity('C#')"
   ]
  },
  {
   "cell_type": "code",
   "execution_count": null,
   "metadata": {},
   "outputs": [],
   "source": []
  },
  {
   "cell_type": "code",
   "execution_count": null,
   "metadata": {},
   "outputs": [],
   "source": []
  }
 ],
 "metadata": {
  "kernelspec": {
   "display_name": "Python 3",
   "language": "python",
   "name": "python3"
  },
  "language_info": {
   "codemirror_mode": {
    "name": "ipython",
    "version": 3
   },
   "file_extension": ".py",
   "mimetype": "text/x-python",
   "name": "python",
   "nbconvert_exporter": "python",
   "pygments_lexer": "ipython3",
   "version": "3.6.8"
  }
 },
 "nbformat": 4,
 "nbformat_minor": 2
}
